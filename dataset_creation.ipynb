{
 "cells": [
  {
   "cell_type": "code",
   "execution_count": 9,
   "metadata": {},
   "outputs": [],
   "source": [
    "import pandas as pd\n",
    "from sklearn.model_selection import train_test_split"
   ]
  },
  {
   "cell_type": "code",
   "execution_count": null,
   "metadata": {},
   "outputs": [],
   "source": [
    "df = pd.read_csv('./data/ProblemSolutionPythonV3_TRAIN.csv', index_col=0)\n",
    "train, val = train_test_split(df, train_size=0.8)\n",
    "train.to_csv('./nl2python_data/train.csv')\n",
    "val.to_csv('./nl2python_data/val.csv')\n",
    "pd.read_csv('data/ProblemSolutionPythonV3_TEST.csv').to_csv('nl2python_data/test.csv')"
   ]
  },
  {
   "cell_type": "code",
   "execution_count": 23,
   "metadata": {},
   "outputs": [
    {
     "data": {
      "text/plain": [
       "\"def rgb_to_hex(r, g, b):\\r  return ('{:02X}' * 3).format(r, g, b)\\r \\rprint(rgb_to_hex(255, 165, 1))\\rprint(rgb_to_hex(255, 255, 255))\\rprint(rgb_to_hex(0, 0, 0))\\rprint(rgb_to_hex(0, 0, 128))\\rprint(rgb_to_hex(192, 192, 192))\\r\""
      ]
     },
     "execution_count": 23,
     "metadata": {},
     "output_type": "execute_result"
    }
   ],
   "source": [
    "x = list(pd.read_csv('nl2python_data/train.csv').iterrows())[0]\n",
    "x[1]['Problem']\n",
    "x[1]['Python Code']"
   ]
  },
  {
   "cell_type": "code",
   "execution_count": 17,
   "metadata": {},
   "outputs": [
    {
     "data": {
      "text/plain": [
       "'Write a Python program to convert the values of RGB components to a hexadecimal color code. '"
      ]
     },
     "execution_count": 17,
     "metadata": {},
     "output_type": "execute_result"
    }
   ],
   "source": [
    "x[1]['Problem']"
   ]
  },
  {
   "cell_type": "code",
   "execution_count": null,
   "metadata": {},
   "outputs": [],
   "source": []
  }
 ],
 "metadata": {
  "kernelspec": {
   "display_name": "Python 3",
   "language": "python",
   "name": "python3"
  },
  "language_info": {
   "codemirror_mode": {
    "name": "ipython",
    "version": 3
   },
   "file_extension": ".py",
   "mimetype": "text/x-python",
   "name": "python",
   "nbconvert_exporter": "python",
   "pygments_lexer": "ipython3",
   "version": "3.9.7"
  },
  "orig_nbformat": 4
 },
 "nbformat": 4,
 "nbformat_minor": 2
}
